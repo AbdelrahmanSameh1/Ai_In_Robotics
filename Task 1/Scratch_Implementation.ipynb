{
 "cells": [
  {
   "cell_type": "code",
   "execution_count": 33,
   "id": "629590fe-462e-4881-879b-d4153c4cbe16",
   "metadata": {
    "tags": []
   },
   "outputs": [
    {
     "name": "stdout",
     "output_type": "stream",
     "text": [
      "Mean Squared Error: 34244988.80237877\n",
      "Predicted charges for the new patient: 1796.5802548315423\n"
     ]
    }
   ],
   "source": [
    "import pandas as pd\n",
    "import numpy as np\n",
    "\n",
    "# load the dataset\n",
    "insurance = pd.read_csv(\"insurance.csv\")\n",
    "\n",
    "# convert categorical variables to numerical values\n",
    "insurance['sex'] = insurance['sex'].apply({'male': 0, 'female': 1}.get)\n",
    "insurance['smoker'] = insurance['smoker'].apply({'yes': 1, 'no': 0}.get)\n",
    "insurance['region'] = insurance['region'].apply({'southwest': 1, 'southeast': 2, 'northwest': 3, 'northeast': 4}.get)\n",
    "\n",
    "# define features (X) and the target variable (y)\n",
    "X = insurance[['age', 'sex', 'bmi', 'children', 'smoker', 'region']]\n",
    "y = insurance['charges']\n",
    "\n",
    "# scale the features\n",
    "X_mean = X.mean()\n",
    "X_std = X.std()\n",
    "X_scaled = (X - X_mean) / X_std\n",
    "\n",
    "# Split the dataset into 70% training and 30% testing sets\n",
    "split_ratio = 0.7\n",
    "split_index = int(split_ratio * len(insurance))\n",
    "\n",
    "X_train = X_scaled[:split_index]\n",
    "y_train = y[:split_index]\n",
    "X_test = X_scaled[split_index:]\n",
    "y_test = y[split_index:]\n",
    "\n",
    "\n",
    "# Implement Linear Regression from scratch with a suitable learning rate\n",
    "def linear_regression(X, y, learning_rate, iterations):\n",
    "    n_samples, n_features = X.shape\n",
    "    weights = np.zeros(n_features)\n",
    "    bias = 0\n",
    "\n",
    "    for _ in range(iterations):\n",
    "        y_predicted = np.dot(X, weights) + bias\n",
    "        dw = (1/n_samples) * np.dot(X.T, (y_predicted - y))\n",
    "        db = (1/n_samples) * np.sum(y_predicted - y)\n",
    "        \n",
    "        weights -= learning_rate * dw\n",
    "        bias -= learning_rate * db\n",
    "\n",
    "    # Calculate Mean Squared Error manually\n",
    "    mse = np.mean((y_predicted - y) ** 2)\n",
    "    \n",
    "    return weights, bias, mse\n",
    "\n",
    "\n",
    "# A more suitable learning rate\n",
    "learning_rate = 0.1\n",
    "# increased number of iterations for better convergence\n",
    "iterations = 10000  \n",
    "weights, bias, mse = linear_regression(X_train, y_train, learning_rate, iterations)\n",
    "\n",
    "print(\"Mean Squared Error:\", mse)\n",
    "\n",
    "# Predict charges for a new patient\n",
    "new_patient_data = np.array([24, 1, 23.50, 0, 0, 3])\n",
    "new_patient_data_scaled = (new_patient_data - X_mean) / X_std\n",
    "new_patient_charges = np.dot(new_patient_data_scaled, weights) + bias\n",
    "print(\"Predicted charges for the new patient:\", new_patient_charges)\n"
   ]
  },
  {
   "cell_type": "code",
   "execution_count": null,
   "id": "7538bc25-afe9-4710-94e2-a3ce8298ba0b",
   "metadata": {},
   "outputs": [],
   "source": []
  },
  {
   "cell_type": "code",
   "execution_count": null,
   "id": "57165a67-2631-4715-8eae-286b03e5d0bc",
   "metadata": {},
   "outputs": [],
   "source": []
  }
 ],
 "metadata": {
  "kernelspec": {
   "display_name": "Python 3 (ipykernel)",
   "language": "python",
   "name": "python3"
  },
  "language_info": {
   "codemirror_mode": {
    "name": "ipython",
    "version": 3
   },
   "file_extension": ".py",
   "mimetype": "text/x-python",
   "name": "python",
   "nbconvert_exporter": "python",
   "pygments_lexer": "ipython3",
   "version": "3.11.5"
  }
 },
 "nbformat": 4,
 "nbformat_minor": 5
}
